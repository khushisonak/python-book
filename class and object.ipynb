{
 "cells": [
  {
   "cell_type": "markdown",
   "id": "8c79016b",
   "metadata": {},
   "source": [
    "Bilkul! नीचे एक नई class का example, उसी तरह explanation और कुछ tips दिए गए हैं जिससे आपकी mistakes कम हों:\n",
    "\n"
   ]
  },
  {
   "cell_type": "code",
   "execution_count": 2,
   "id": "b31c5505",
   "metadata": {},
   "outputs": [
    {
     "name": "stdout",
     "output_type": "stream",
     "text": [
      "Title: Python Basics, Author: Shivam, Pages: 250\n"
     ]
    }
   ],
   "source": [
    "class Book:\n",
    "    def __init__(self, title, author, pages):\n",
    "        self.title = title\n",
    "        self.author = author\n",
    "        self.pages = pages\n",
    "\n",
    "    def show_info(self):\n",
    "        print(f\"Title: {self.title}, Author: {self.author}, Pages: {self.pages}\")\n",
    "\n",
    "# Object बनाना\n",
    "book1 = Book(\"Python Basics\", \"Shivam\", 250)\n",
    "book1.show_info()"
   ]
  },
  {
   "cell_type": "markdown",
   "id": "6f70daa7",
   "metadata": {},
   "source": [
    "\n",
    "\n",
    "### Explanation (Bilkul Same Style):\n",
    "\n",
    "**def __init__(self, title, author, pages):**  \n",
    "यह लाइन Python में एक क्लास का constructor method define करती है।  \n",
    "__init__ एक special method है, जो object बनाते समय automatically call होता है।  \n",
    "self उस object को represent करता है जो बन रहा है।  \n",
    "title, author, pages वे values हैं जो object बनाते समय दी जाती हैं।  \n",
    "इस method के अंदर, object की properties (self.title, self.author, self.pages) को initialize किया जाता है।  \n",
    "उदाहरण:  \n",
    "book1 = Book(\"Python Basics\", \"Shivam\", 250)  \n",
    "यहाँ title=\"Python Basics\", author=\"Shivam\", pages=250 values __init__ method में जाती हैं और object की properties सेट होती हैं।\n",
    "\n",
    "**def show_info(self):**  \n",
    "यह एक method है जो Book class के अंदर define की गई है।  \n",
    "def का मतलब है function या method define करना।  \n",
    "show_info method का नाम है।  \n",
    "self उस object को refer करता है जिसके लिए यह method call किया जाएगा।  \n",
    "इस method के अंदर, object की properties (self.title, self.author, self.pages) का उपयोग करके एक message print किया जाता है।  \n",
    "जब आप book1.show_info() लिखते हैं, तो यह method book1 object के लिए run होता है और उसकी details दिखाता है।\n",
    "\n",
    "**Object और properties में फर्क:**  \n",
    "Object: Class का एक instance होता है।  \n",
    "Example:  \n",
    "book1 = Book(\"Python Basics\", \"Shivam\", 250)  \n",
    "यहाँ book1 एक object है।\n",
    "\n",
    "Properties: Object के अंदर रखी गई values या attributes होते हैं।  \n",
    "Example:  \n",
    "book1.title  # यह property है, जिसकी value \"Python Basics\" है  \n",
    "book1.author # यह property है, जिसकी value \"Shivam\" है  \n",
    "book1.pages  # यह property है, जिसकी value 250 है  \n",
    "\n",
    "Object = पूरा entity  \n",
    "Properties = उस entity के अंदर रखी values\n",
    "\n",
    "---\n",
    "\n",
    "### Tips & Steps (Mistake कम करने के लिए):\n",
    "\n",
    "1. **Class हमेशा पहले define करें:**  \n",
    "   Object बनाने से पहले class का code लिखें और cell run करें।\n",
    "\n",
    "2. **Constructor (__init__) में सभी जरूरी properties डालें:**  \n",
    "   जितनी values object में चाहिए, उतनी ही arguments __init__ में रखें।\n",
    "\n",
    "3. **Method में हमेशा self लिखें:**  \n",
    "   Method define करते समय self सबसे पहले लिखें।\n",
    "\n",
    "4. **Object बनाते समय arguments सही दें:**  \n",
    "   जितने arguments __init__ में हैं, उतने ही object बनाते समय दें।\n",
    "\n",
    "5. **Cell order का ध्यान रखें:**  \n",
    "   Jupyter notebook में पहले class वाली cell run करें, फिर object वाली।\n",
    "\n",
    "6. **Property access करते समय object का नाम सही लिखें:**  \n",
    "   जैसे book1.title, book1.author\n",
    "\n",
    "7. **Print या method call करते समय () का ध्यान रखें:**  \n",
    "   जैसे book1.show_info()\n",
    "\n",
    "8. **Code लिखने के बाद एक बार output check करें:**  \n",
    "   अगर error आए तो error message ध्यान से पढ़ें।\n",
    "\n",
    "इन steps को follow करेंगे तो आपकी mistakes काफी कम होंगी!"
   ]
  },
  {
   "cell_type": "markdown",
   "id": "a264ccbc",
   "metadata": {},
   "source": []
  },
  {
   "cell_type": "markdown",
   "id": "a146855c",
   "metadata": {},
   "source": [
    "नीचे एक नया example दिया गया है, जिसमें class, object, properties, method, और सभी steps/tips को 1 से शुरू करके explain किया गया है:\n",
    "\n"
   ]
  },
  {
   "cell_type": "code",
   "execution_count": 1,
   "id": "c2a9d38c",
   "metadata": {},
   "outputs": [
    {
     "name": "stdout",
     "output_type": "stream",
     "text": [
      "Rahul\n",
      "92\n",
      "Name: Rahul, Roll No: 101, Marks: 88\n",
      "Name: Priya, Roll No: 102, Marks: 92\n"
     ]
    }
   ],
   "source": [
    "# 1. Class हमेशा पहले define करें\n",
    "class Student:\n",
    "    # 2. Constructor (__init__) में सभी जरूरी properties डालें\n",
    "    def __init__(self, name, roll_no, marks):\n",
    "        self.name = name\n",
    "        self.roll_no = roll_no\n",
    "        self.marks = marks\n",
    "\n",
    "    # 3. Method में हमेशा self लिखें\n",
    "    def show_details(self):\n",
    "        print(f\"Name: {self.name}, Roll No: {self.roll_no}, Marks: {self.marks}\")\n",
    "\n",
    "# 4. Object बनाते समय arguments सही दें\n",
    "student1 = Student(\"Rahul\", 101, 88)\n",
    "student2 = Student(\"Priya\", 102, 92)\n",
    "\n",
    "# 5. Cell order का ध्यान रखें (पहले class, फिर object)\n",
    "# 6. Property access करते समय object का नाम सही लिखें\n",
    "print(student1.name)   # Output: Rahul\n",
    "print(student2.marks)  # Output: 92\n",
    "\n",
    "# 7. Print या method call करते समय () का ध्यान रखें\n",
    "student1.show_details()\n",
    "student2.show_details()\n",
    "\n",
    "# 8. Code लिखने के बाद एक बार output check करें\n",
    "# अगर error आए तो error message ध्यान से पढ़ें"
   ]
  },
  {
   "cell_type": "markdown",
   "id": "19d3a637",
   "metadata": {},
   "source": [
    "\n",
    "\n",
    "---\n",
    "\n",
    "### **Explanation (Step by Step):**\n",
    "\n",
    "**Step 1:**  \n",
    "Class सबसे पहले define करें ताकि बाद में object बना सकें।\n",
    "\n",
    "**Step 2:**  \n",
    "Constructor (`__init__`) में जितनी properties चाहिए, उतनी arguments रखें (name, roll_no, marks)।\n",
    "\n",
    "**Step 3:**  \n",
    "Method define करते समय हमेशा `self` सबसे पहले लिखें।\n",
    "\n",
    "**Step 4:**  \n",
    "Object बनाते समय जितने arguments constructor में हैं, उतने ही दें।\n",
    "\n",
    "**Step 5:**  \n",
    "Jupyter notebook में पहले class वाली cell run करें, फिर object वाली।\n",
    "\n",
    "**Step 6:**  \n",
    "Property access करते समय object का नाम सही लिखें (student1.name, student2.marks)।\n",
    "\n",
    "**Step 7:**  \n",
    "Method call करते समय () का ध्यान रखें (student1.show_details())।\n",
    "\n",
    "**Step 8:**  \n",
    "Code लिखने के बाद output check करें, अगर error आए तो error message ध्यान से पढ़ें।\n",
    "\n",
    "---\n",
    "\n",
    "**इन steps को follow करेंगे तो आपकी mistakes काफी कम होंगी!**"
   ]
  }
 ],
 "metadata": {
  "kernelspec": {
   "display_name": "Python 3",
   "language": "python",
   "name": "python3"
  },
  "language_info": {
   "codemirror_mode": {
    "name": "ipython",
    "version": 3
   },
   "file_extension": ".py",
   "mimetype": "text/x-python",
   "name": "python",
   "nbconvert_exporter": "python",
   "pygments_lexer": "ipython3",
   "version": "3.13.7"
  }
 },
 "nbformat": 4,
 "nbformat_minor": 5
}
